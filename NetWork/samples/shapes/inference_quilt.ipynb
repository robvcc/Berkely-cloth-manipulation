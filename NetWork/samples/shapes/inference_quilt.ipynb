{
 "cells": [
  {
   "cell_type": "code",
   "execution_count": 1,
   "metadata": {
    "collapsed": true
   },
   "outputs": [
    {
     "name": "stderr",
     "output_type": "stream",
     "text": [
      "Using TensorFlow backend.\n"
     ]
    },
    {
     "name": "stdout",
     "output_type": "stream",
     "text": [
      "C:\\Users\\VCC\\Desktop\\Mask_RCNN\n"
     ]
    }
   ],
   "source": [
    "import os\n",
    "import matplotlib.pyplot as plt\n",
    "from mrcnn.config import Config\n",
    "from mrcnn import model as modellib\n",
    "from mrcnn import utils1 as utils\n",
    "from mrcnn import visualize\n",
    "from mrcnn.model import log\n",
    "ROOT_DIR = os.path.abspath(\"\")\n",
    "# Directory to save logs and trained model\n",
    "MODEL_DIR = os.path.join(ROOT_DIR, \"logs\")\n",
    "print(ROOT_DIR)"
   ]
  },
  {
   "cell_type": "code",
   "execution_count": 2,
   "metadata": {},
   "outputs": [
    {
     "name": "stdout",
     "output_type": "stream",
     "text": [
      "Loading weights from  C:\\Users\\VCC\\Desktop\\Mask_RCNN/logs/2018.12.2.h5\n"
     ]
    },
    {
     "name": "stdout",
     "output_type": "stream",
     "text": [
      "2.7760126106716014\n"
     ]
    }
   ],
   "source": [
    "class ShapesConfig(Config):\n",
    "    NAME = \"shape\"\n",
    "    GPU_COUNT = 1\n",
    "    IMAGES_PER_GPU = 2\n",
    "    NUM_CLASSES = 1 + 4\n",
    "    IMAGE_MIN_DIM = 320\n",
    "    IMAGE_MAX_DIM = 384\n",
    "    RPN_ANCHOR_SCALES = (8 * 6, 16 * 6, 32 * 6, 64 * 6, 128 * 6)\n",
    "    TRAIN_ROIS_PER_IMAGE = 100\n",
    "    STEPS_PER_EPOCH = 100\n",
    "    VALIDATION_STEPS = 50\n",
    "class InferenceConfig(ShapesConfig):\n",
    "    GPU_COUNT = 1\n",
    "    IMAGES_PER_GPU = 1\n",
    "\n",
    "inference_config = InferenceConfig()\n",
    "\n",
    "model = modellib.MaskRCNN(mode=\"inference\", \n",
    "                          config=inference_config,\n",
    "                          model_dir=MODEL_DIR)\n",
    "\n",
    "model_path=ROOT_DIR+\"/logs/quilt and baby.h5\"\n",
    "model_path=ROOT_DIR+\"/logs/corner.h5\"\n",
    "model_path=ROOT_DIR+\"/logs/new_one.h5\"\n",
    "model_path = ROOT_DIR + \"/logs/2018.12.2.h5\"\n",
    "\n",
    "\n",
    "print(\"Loading weights from \", model_path)\n",
    "import time\n",
    "start=time.clock()\n",
    "model.load_weights(model_path, by_name=True)\n",
    "end=time.clock()\n",
    "print(end-start)\n"
   ]
  },
  {
   "cell_type": "code",
   "execution_count": 6,
   "metadata": {
    "collapsed": true
   },
   "outputs": [
    {
     "name": "stdout",
     "output_type": "stream",
     "text": [
      "C:/Users/VCC/Desktop/5.jpg\nProcessing 1 images\nimage                    shape: (1080, 1920, 3)       min:    0.00000  max:  255.00000  uint8\n"
     ]
    },
    {
     "name": "stdout",
     "output_type": "stream",
     "text": [
      "molded_images            shape: (1, 384, 384, 3)      min: -123.70000  max:  151.10000  float64\nimage_metas              shape: (1, 17)               min:    0.00000  max: 1920.00000  float64\nanchors                  shape: (1, 36828, 4)         min:   -1.41791  max:    2.25080  float32\n"
     ]
    },
    {
     "name": "stdout",
     "output_type": "stream",
     "text": [
      "1.8551641615387098\n{'rois': array([[ 309,   28,  937, 1579],\n       [ 336, 1434,  581, 1670],\n       [ 338,  298,  469,  460],\n       [ 624, 1381,  782, 1573]]), 'class_ids': array([2, 4, 3, 3]), 'scores': array([0.999987  , 0.99417794, 0.9507582 , 0.8664521 ], dtype=float32), 'masks': array([[[False, False, False, False],\n        [False, False, False, False],\n        [False, False, False, False],\n        ...,\n        [False, False, False, False],\n        [False, False, False, False],\n        [False, False, False, False]],\n\n       [[False, False, False, False],\n        [False, False, False, False],\n        [False, False, False, False],\n        ...,\n        [False, False, False, False],\n        [False, False, False, False],\n        [False, False, False, False]],\n\n       [[False, False, False, False],\n        [False, False, False, False],\n        [False, False, False, False],\n        ...,\n        [False, False, False, False],\n        [False, False, False, False],\n        [False, False, False, False]],\n\n       ...,\n\n       [[False, False, False, False],\n        [False, False, False, False],\n        [False, False, False, False],\n        ...,\n        [False, False, False, False],\n        [False, False, False, False],\n        [False, False, False, False]],\n\n       [[False, False, False, False],\n        [False, False, False, False],\n        [False, False, False, False],\n        ...,\n        [False, False, False, False],\n        [False, False, False, False],\n        [False, False, False, False]],\n\n       [[False, False, False, False],\n        [False, False, False, False],\n        [False, False, False, False],\n        ...,\n        [False, False, False, False],\n        [False, False, False, False],\n        [False, False, False, False]]])}\n"
     ]
    },
    {
     "name": "stdout",
     "output_type": "stream",
     "text": [
      "the bounding box of leftup and rightdowm: [[ 309   28  937 1579]\n [ 336 1434  581 1670]\n [ 338  298  469  460]\n [ 624 1381  782 1573]]\nscores:\n623.0\n803.5\n458.5\n1552.0\n403.5\n379.0\n703.0\n1477.0\n0\ngripper point:\n623.0\n803.5\n458.5\n1552.0\n403.5\n379.0\n703.0\n1477.0\n"
     ]
    },
    {
     "data": {
      "image/png": "[encoded data removed]",
      "text/plain": [
       "<Figure size 432x288 with 1 Axes>"
      ]
     },
     "metadata": {},
     "output_type": "display_data"
    }
   ],
   "source": [
    "import skimage\n",
    "import time\n",
    "import cv2\n",
    "import numpy as np\n",
    "import matplotlib.pyplot as plt\n",
    "start=time.clock()\n",
    "file_dir=\"C:/wamp64/www/ThinkingQ/\"\n",
    "list=os.listdir(file_dir)\n",
    "list.sort(key=lambda fn: os.path.getmtime(file_dir+fn) if not os.path.isdir(file_dir+fn) else 0)\n",
    "%matplotlib inline \n",
    "IMG_PATH=ROOT_DIR+\"/new_data/pic/29.png\"\n",
    "IMG_PATH=\"C:/wamp64/www/ThinkingQ/\"+list[-1]\n",
    "IMG_PATH=\"C:/Users/VCC/Desktop/5.jpg\"\n",
    "# IMG_PATH=\"c:/wamp64/www/ThinkingQ/fetch_camera/1543843247.698073.png\"\n",
    "\n",
    "print(IMG_PATH)\n",
    "original_image = skimage.io.imread(IMG_PATH)# --- 绝对路径选择图片\n",
    "\n",
    "results = model.detect([original_image], verbose=1)\n",
    "# class_names=['BG', 'corner']\n",
    "# class_names=['BG', 'baby','quilt']\n",
    "class_names=['BG', 'edge','quilt','corner','head']\n",
    "\n",
    "r = results[0]\n",
    "end=time.clock()\n",
    "def get_ax(rows=1, cols=1, size=8):\n",
    "    _, ax = plt.subplots(rows, cols, figsize=(size * cols, size * rows))\n",
    "    return ax\n",
    "print(end-start)\n",
    "r = results[0]\n",
    "\n",
    "# \n",
    "from samples.shapes.result2mask import result2mask as r2m\n",
    "r2m1=r2m()\n",
    "print(r)\n",
    "count=0\n",
    "mask=np.zeros((r['masks'].shape[0],r['masks'].shape[1]))\n",
    "for i in range(r['masks'].shape[0]):\n",
    "    for j in range(r['masks'].shape[1]):\n",
    "        if (r['masks'][i][j]+0).sum()>0:\n",
    "            count+=1\n",
    "            mask[i][j]+=1\n",
    "print(\"the bounding box of leftup and rightdowm:\",r['rois'])\n",
    "print('scores:')\n",
    "for i in r['rois']:\n",
    "    print((i[0] + i[2]) / 2)\n",
    "    print((i[1] + i[3]) / 2)\n",
    "\n",
    "plt.imshow(mask)\n",
    "print((r['masks'][0][0]+0).sum())\n",
    "print('gripper point:')\n",
    "for i in r['rois']:\n",
    "    print((i[0] + i[2]) / 2)\n",
    "    print((i[1] + i[3]) / 2)\n",
    "\n",
    "plt.imshow(visualize.display_instances(original_image, r['rois'], r['masks'], r['class_ids'], \n",
    "                            class_names, r['scores'], ax=get_ax()))\n",
    "plt.show()\n"
   ]
  },
  {
   "cell_type": "code",
   "execution_count": null,
   "metadata": {},
   "outputs": [],
   "source": []
  }
 ],
 "metadata": {
  "kernelspec": {
   "display_name": "Python 2",
   "language": "python",
   "name": "python2"
  },
  "language_info": {
   "codemirror_mode": {
    "name": "ipython",
    "version": 2
   },
   "file_extension": ".py",
   "mimetype": "text/x-python",
   "name": "python",
   "nbconvert_exporter": "python",
   "pygments_lexer": "ipython2",
   "version": "2.7.6"
  }
 },
 "nbformat": 4,
 "nbformat_minor": 0
}
